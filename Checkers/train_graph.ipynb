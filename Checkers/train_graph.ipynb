{
 "cells": [
  {
   "cell_type": "code",
   "execution_count": 1,
   "metadata": {},
   "outputs": [
    {
     "name": "stderr",
     "output_type": "stream",
     "text": [
      "Using TensorFlow backend.\n"
     ]
    }
   ],
   "source": [
    "%load_ext autoreload\n",
    "%autoreload 2\n",
    "\n",
    "import sys\n",
    "from datetime import datetime\n",
    "import time\n",
    "import random\n",
    "\n",
    "import ipywidgets as widgets\n",
    "\n",
    "import numpy as np\n",
    "import keras\n",
    "from keras.models import Sequential, Model\n",
    "from keras.layers import *\n",
    "from keras.optimizers import *\n",
    "from keras.callbacks import ModelCheckpoint\n",
    "\n",
    "from sklearn.model_selection import train_test_split\n",
    "\n",
    "from checkers_load import makeBatches, load_games, dataGenerator, getData\n",
    "import checkers_models\n",
    "from checkers_display import *\n",
    "import checkers_layers"
   ]
  },
  {
   "cell_type": "code",
   "execution_count": 2,
   "metadata": {},
   "outputs": [
    {
     "data": {
      "application/vnd.jupyter.widget-view+json": {
       "model_id": "4d202a6ed8224f2d97fbcdd0b137a342",
       "version_major": 2,
       "version_minor": 0
      },
      "text/plain": [
       "HBox(children=(Figure(axes=[Axis(label='X', scale=LinearScale(allow_padding=False, max=4.0, min=0.0)), Axis(la…"
      ]
     },
     "metadata": {},
     "output_type": "display_data"
    }
   ],
   "source": [
    "#model = keras.models.load_model(f_name)\n",
    "\n",
    "figs = []\n",
    "\n",
    "board_d = SimpleBoardDisplay()\n",
    "figs.append(board_d.fig)\n",
    "\n",
    "move_d = MoveHeatmapDisplay()\n",
    "figs.append(move_d.fig)\n",
    "\n",
    "pred_d = MoveHeatmapDisplay()\n",
    "figs.append(pred_d.fig)\n",
    "\n",
    "display(widgets.HBox(figs))"
   ]
  },
  {
   "cell_type": "code",
   "execution_count": 31,
   "metadata": {},
   "outputs": [
    {
     "data": {
      "application/vnd.jupyter.widget-view+json": {
       "model_id": "5e45d0c0d1d94e62b424d33a10f5e00f",
       "version_major": 2,
       "version_minor": 0
      },
      "text/plain": [
       "HBox(children=(Figure(axes=[Axis(label='X', scale=LinearScale(allow_padding=False, max=4.0, min=0.0)), Axis(la…"
      ]
     },
     "metadata": {},
     "output_type": "display_data"
    }
   ],
   "source": [
    "def getCheckersAdjMat(incSelf=True, incUp=True, incDown=True):\n",
    "    adj = np.zeros((32,32))\n",
    "\n",
    "    def cv(x,y):\n",
    "        return y*4 + x\n",
    "\n",
    "    def inBnds(x,y):\n",
    "        return 0 <= x < 4 and 0 <= y < 8\n",
    "\n",
    "    def conn(x1, y1, x2, y2):\n",
    "        if inBnds(x1, y1) and inBnds(x2, y2):\n",
    "            adj[cv(x1,y1), cv(x2,y2)] = 1\n",
    "\n",
    "    for x in range(4):\n",
    "        for y in range(8):\n",
    "            o = (y+1) % 2\n",
    "            # Connect to ourself\n",
    "            if incSelf:\n",
    "                conn(x,y, x,y)\n",
    "            # Connect down left/right\n",
    "            if incUp:\n",
    "                conn(x, y, x+o-1, y+1)\n",
    "                conn(x+o-1, y+1, x, y)\n",
    "\n",
    "            if incDown:\n",
    "                conn(x, y, x+o, y+1)\n",
    "                conn(x+o, y+1, x, y)\n",
    "\n",
    "\n",
    "    return adj\n",
    "\n",
    "\n",
    "# adj = getCheckersAdjMat()\n",
    "# np.set_printoptions(threshold=np.inf)\n",
    "# print(adj)\n",
    "figs = []\n",
    "\n",
    "b1 = SimpleBoardDisplay()\n",
    "figs.append(b1.fig)\n",
    "b2 = SimpleBoardDisplay()\n",
    "figs.append(b2.fig)\n",
    "display(widgets.HBox(figs))"
   ]
  },
  {
   "cell_type": "code",
   "execution_count": 27,
   "metadata": {},
   "outputs": [
    {
     "name": "stdout",
     "output_type": "stream",
     "text": [
      "[0. 0. 0. 0. 0. 0. 0. 0. 0. 0. 0. 0. 0. 0. 0. 0. 0. 0. 0. 0. 0. 0. 0. 0.\n",
      " 1. 0. 0. 0. 0. 0. 0. 0.]\n",
      "[0. 0. 0. 0. 0. 0. 0. 0. 0. 0. 0. 0. 0. 0. 0. 0. 0. 0. 0. 0. 1. 1. 0. 0.\n",
      " 1. 0. 0. 0. 1. 1. 0. 0.]\n"
     ]
    }
   ],
   "source": [
    "# Test adjacency matrix...\n",
    "adj = getCheckersAdjMat()\n",
    "\n",
    "a = np.zeros((32,))\n",
    "i = 24\n",
    "a[i] = 1\n",
    "print(a)\n",
    "print(adj[i])\n",
    "\n",
    "b1.update(np.reshape(a, (8,4,1)))\n",
    "b2.update(np.reshape(adj[i], (8,4,1)))"
   ]
  },
  {
   "cell_type": "code",
   "execution_count": 4,
   "metadata": {},
   "outputs": [],
   "source": [
    "games = load_games()\n",
    "moves = [a for a in dataGenerator(games)]"
   ]
  },
  {
   "cell_type": "code",
   "execution_count": 48,
   "metadata": {},
   "outputs": [
    {
     "name": "stdout",
     "output_type": "stream",
     "text": [
      "heyy <tf.Variable 'Variable_39:0' shape=(32, 32) dtype=float32_ref> Tensor(\"const_graph_conv_66/transpose_2:0\", shape=(?, 32, 100), dtype=float32)\n",
      "(None, 32, 1) 100\n",
      "heyy <tf.Variable 'Variable_40:0' shape=(32, 32) dtype=float32_ref> Tensor(\"const_graph_conv_67/transpose_2:0\", shape=(?, 32, 100), dtype=float32)\n",
      "(None, 32, 1) 100\n",
      "heyy <tf.Variable 'Variable_41:0' shape=(32, 32) dtype=float32_ref> Tensor(\"const_graph_conv_68/transpose_2:0\", shape=(?, 32, 100), dtype=float32)\n",
      "(None, 32, 1) 100\n",
      "heyy <tf.Variable 'Variable_39:0' shape=(32, 32) dtype=float32_ref> Tensor(\"const_graph_conv_69/transpose_2:0\", shape=(?, 32, 100), dtype=float32)\n",
      "(None, 32, 100) 100\n",
      "heyy <tf.Variable 'Variable_40:0' shape=(32, 32) dtype=float32_ref> Tensor(\"const_graph_conv_70/transpose_2:0\", shape=(?, 32, 100), dtype=float32)\n",
      "(None, 32, 100) 100\n",
      "heyy <tf.Variable 'Variable_41:0' shape=(32, 32) dtype=float32_ref> Tensor(\"const_graph_conv_71/transpose_2:0\", shape=(?, 32, 100), dtype=float32)\n",
      "(None, 32, 100) 100\n",
      "heyy <tf.Variable 'Variable_39:0' shape=(32, 32) dtype=float32_ref> Tensor(\"const_graph_conv_72/transpose_2:0\", shape=(?, 32, 4), dtype=float32)\n",
      "(None, 32, 100) 4\n",
      "__________________________________________________________________________________________________\n",
      "Layer (type)                    Output Shape         Param #     Connected to                     \n",
      "==================================================================================================\n",
      "input_58 (InputLayer)           (None, 32, 1)        0                                            \n",
      "__________________________________________________________________________________________________\n",
      "const_graph_conv_66 (ConstGraph (None, 32, 100)      200         input_58[0][0]                   \n",
      "__________________________________________________________________________________________________\n",
      "const_graph_conv_67 (ConstGraph (None, 32, 100)      200         input_58[0][0]                   \n",
      "__________________________________________________________________________________________________\n",
      "const_graph_conv_68 (ConstGraph (None, 32, 100)      200         input_58[0][0]                   \n",
      "__________________________________________________________________________________________________\n",
      "add_18 (Add)                    (None, 32, 100)      0           const_graph_conv_66[0][0]        \n",
      "                                                                 const_graph_conv_67[0][0]        \n",
      "                                                                 const_graph_conv_68[0][0]        \n",
      "__________________________________________________________________________________________________\n",
      "const_graph_conv_69 (ConstGraph (None, 32, 100)      10100       add_18[0][0]                     \n",
      "__________________________________________________________________________________________________\n",
      "const_graph_conv_70 (ConstGraph (None, 32, 100)      10100       add_18[0][0]                     \n",
      "__________________________________________________________________________________________________\n",
      "const_graph_conv_71 (ConstGraph (None, 32, 100)      10100       add_18[0][0]                     \n",
      "__________________________________________________________________________________________________\n",
      "add_19 (Add)                    (None, 32, 100)      0           const_graph_conv_69[0][0]        \n",
      "                                                                 const_graph_conv_70[0][0]        \n",
      "                                                                 const_graph_conv_71[0][0]        \n",
      "__________________________________________________________________________________________________\n",
      "const_graph_conv_72 (ConstGraph (None, 32, 4)        404         add_19[0][0]                     \n",
      "__________________________________________________________________________________________________\n",
      "flatten_14 (Flatten)            (None, 128)          0           const_graph_conv_72[0][0]        \n",
      "__________________________________________________________________________________________________\n",
      "activation_2 (Activation)       (None, 128)          0           flatten_14[0][0]                 \n",
      "==================================================================================================\n",
      "Total params: 31,304\n",
      "Trainable params: 31,304\n",
      "Non-trainable params: 0\n",
      "__________________________________________________________________________________________________\n"
     ]
    }
   ],
   "source": [
    "\n",
    "\n",
    "# Requires input of shape (32,).\n",
    "def stupidGraphTestModel():\n",
    "    # model = Sequential()\n",
    "    \n",
    "    adj = getCheckersAdjMat()\n",
    "    adj = np.identity(32)\n",
    "    \n",
    "    \n",
    "    \n",
    "    \n",
    "    k_adj = K.variable(adj)\n",
    "    fixed_adj = Input(tensor=k_adj)\n",
    "    print(adj)\n",
    "\n",
    "    \n",
    "    X_in = Input(shape=(32,1))\n",
    "\n",
    "    out = checkers_layers.ConstGraphConv(4, fixed_adj, activation='relu')(X_in)\n",
    "    out = Flatten()(out)\n",
    "    \n",
    "    model = Model(inputs=[X_in], outputs=out)\n",
    "    optim = Adam(0.001)\n",
    "    model.compile(loss='categorical_crossentropy', optimizer=optim, metrics=checkers_models.metrics)\n",
    "    model.summary()\n",
    "\n",
    "    return model\n",
    "\n",
    "\n",
    "def literallyFuckingStupidModel(layers):\n",
    "    model = Sequential()\n",
    "\n",
    "    model.add(Conv2D(10, (3,3), activation='relu', input_shape=(8,8,1), padding='same'))\n",
    "    for i in range(layers-1):\n",
    "        model.add(Conv2D(3, (3,3), activation='relu', padding='same'))\n",
    "\n",
    "    model.add(Conv2D(4, (1,1), activation='softmax', padding='same'))\n",
    "\n",
    "    model.add(Flatten(input_shape=(8,8,1)))\n",
    "    \n",
    "    optim = Adam(0.0001)\n",
    "    # model.compile(loss='categorical_crossentropy', optimizer=optim, metrics=metrics)\n",
    "    model.compile(loss='mse', optimizer=optim, metrics=checkers_models.metrics)\n",
    "    model.summary()\n",
    "\n",
    "    return model\n",
    "\n",
    "\n",
    "m = checkers_models.stupidGraphModel(layers=2)"
   ]
  },
  {
   "cell_type": "code",
   "execution_count": 6,
   "metadata": {},
   "outputs": [
    {
     "name": "stdout",
     "output_type": "stream",
     "text": [
      "Size of input is: 1521.05984 MB.\n"
     ]
    }
   ],
   "source": [
    "X, Y = getData(games)"
   ]
  },
  {
   "cell_type": "code",
   "execution_count": 7,
   "metadata": {},
   "outputs": [
    {
     "name": "stdout",
     "output_type": "stream",
     "text": [
      "(1188328, 32, 1)\n",
      "(1188328, 128)\n"
     ]
    }
   ],
   "source": [
    "# Data prep\n",
    "\n",
    "X2 = np.reshape(X, (-1, 32, 1))\n",
    "\n",
    "print(X2.shape)\n",
    "print(Y.shape)"
   ]
  },
  {
   "cell_type": "code",
   "execution_count": null,
   "metadata": {},
   "outputs": [
    {
     "name": "stdout",
     "output_type": "stream",
     "text": [
      "Train on 962545 samples, validate on 106950 samples\n",
      "Epoch 1/10\n",
      " 88064/962545 [=>............................] - ETA: 8:50 - loss: 4.4622 - acc: 0.0400 - categorical_accuracy: 0.0400 - top_3_accuracy: 0.1816 - top_5_accuracy: 0.2757"
     ]
    }
   ],
   "source": [
    "# Training!!\n",
    "X_train, X_test, Y_train, Y_test = train_test_split(X2, Y, test_size=0.10, random_state=42)\n",
    "\n",
    "batch_s = 1024\n",
    "epochs = 10\n",
    "\n",
    "m.fit(X_train, Y_train,\n",
    "          batch_size=batch_s,\n",
    "          epochs=epochs,\n",
    "          validation_split=0.1)\n"
   ]
  },
  {
   "cell_type": "code",
   "execution_count": null,
   "metadata": {},
   "outputs": [],
   "source": [
    "X3 = np.zeros((X.shape[0],8,8,1))\n",
    "#print(m.shape, m[::2, ::2].shape, m[1::2, 1::2].shape, x0[::2, :].shape, x0[1::2, :].shape)\n",
    "X3[:, ::2, 1::2] = X[:, ::2, :]\n",
    "X3[:, 1::2, ::2] = X[:, 1::2, :]\n",
    "\n",
    "X_train, X_test, Y_train, Y_test = train_test_split(X3, Y, test_size=0.10, random_state=42)\n",
    "\n",
    "batch_s = 1024\n",
    "epochs = 10\n",
    "\n",
    "\n",
    "m = literallyFuckingStupidModel(layers=1)\n",
    "m.fit(X_train, Y_train,\n",
    "          batch_size=batch_s,\n",
    "          epochs=epochs,\n",
    "          validation_split=0.1)"
   ]
  },
  {
   "cell_type": "code",
   "execution_count": 21,
   "metadata": {},
   "outputs": [
    {
     "name": "stdout",
     "output_type": "stream",
     "text": [
      "5.0\n",
      "0.1\n"
     ]
    },
    {
     "data": {
      "application/vnd.jupyter.widget-view+json": {
       "model_id": "28500322d13f421594319603f52614c1",
       "version_major": 2,
       "version_minor": 0
      },
      "text/plain": [
       "HBox(children=(Figure(axes=[Axis(label='X', scale=LinearScale(max=8.0, min=0.0)), Axis(label='Y', orientation=…"
      ]
     },
     "metadata": {},
     "output_type": "display_data"
    }
   ],
   "source": [
    "# Create UI with 3 boards: Game state, target output, network output.\n",
    "figs = []\n",
    "\n",
    "board_d = BoardDisplay(canInteract=False)\n",
    "figs.append(board_d.fig)\n",
    "\n",
    "move_d = MoveHeatmapDisplay()\n",
    "figs.append(move_d.fig)\n",
    "\n",
    "pred_d = MoveHeatmapDisplay()\n",
    "figs.append(pred_d.fig)\n",
    "    \n",
    "display(widgets.HBox(figs))"
   ]
  },
  {
   "cell_type": "code",
   "execution_count": 24,
   "metadata": {},
   "outputs": [],
   "source": [
    "ix = int(100000*np.random.rand(1))\n",
    "x_i, y_i = X2[ix], Y[ix]\n",
    "x_i = np.expand_dims(x_i, axis=0)\n",
    "\n",
    "#x = np.expand_dims(x, axis=3) # Cause conv2d\n",
    "\n",
    "y_pred = m.predict(x_i)\n",
    "y_pred = np.reshape(y_pred, (8,4,4))\n",
    "\n",
    "board_d.update(X[ix])\n",
    "move_d.update(y_i)\n",
    "pred_d.update(y_pred)"
   ]
  },
  {
   "cell_type": "code",
   "execution_count": null,
   "metadata": {},
   "outputs": [],
   "source": [
    "\n",
    "\n",
    "\n",
    "\n",
    "\n",
    "\n",
    "\n",
    "\n",
    "\n",
    "\n",
    "\n",
    "\n",
    "\n",
    "\n",
    "\n",
    "\n",
    "\n",
    "\n",
    "\n",
    "\n",
    "\n",
    "\n",
    "\n",
    "\n",
    "\n",
    "\n",
    "\n",
    "\n",
    "\n",
    "\n",
    "\n",
    "\n",
    "\n",
    "\n",
    "\n",
    "\n",
    "\n",
    "\n",
    "\n",
    "\n",
    "\n",
    "\n",
    "\n",
    "\n",
    "\n",
    "\n",
    "\n",
    "\n",
    "\n",
    "\n",
    "\n",
    "\n",
    "\n",
    "\n",
    "\n",
    "\n",
    "\n",
    "\n",
    "\n"
   ]
  }
 ],
 "metadata": {
  "kernelspec": {
   "display_name": "Python 3",
   "language": "python",
   "name": "python3"
  },
  "language_info": {
   "codemirror_mode": {
    "name": "ipython",
    "version": 3
   },
   "file_extension": ".py",
   "mimetype": "text/x-python",
   "name": "python",
   "nbconvert_exporter": "python",
   "pygments_lexer": "ipython3",
   "version": "3.6.8"
  }
 },
 "nbformat": 4,
 "nbformat_minor": 2
}
