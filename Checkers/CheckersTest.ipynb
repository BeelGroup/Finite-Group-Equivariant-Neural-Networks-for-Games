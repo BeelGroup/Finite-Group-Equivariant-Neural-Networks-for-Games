{
 "cells": [
  {
   "cell_type": "code",
   "execution_count": 1,
   "metadata": {},
   "outputs": [],
   "source": [
    "%load_ext autoreload\n",
    "%autoreload 2\n",
    "\n",
    "import numpy as np\n",
    "import bqplot\n",
    "import ipywidgets as widgets\n",
    "\n",
    "from IPython.display import display\n",
    "\n",
    "import time\n",
    "import random\n",
    "\n",
    "from checkers_load import makeBatches, load_games, dataGenerator, getData\n",
    "from checkers_display import BoardDisplay, SimpleBoardDisplay, MoveHeatmapDisplay\n",
    "\n",
    "from checkers_helpers import *"
   ]
  },
  {
   "cell_type": "code",
   "execution_count": 2,
   "metadata": {},
   "outputs": [
    {
     "name": "stdout",
     "output_type": "stream",
     "text": [
      "5.0\n",
      "0.1\n"
     ]
    },
    {
     "data": {
      "application/vnd.jupyter.widget-view+json": {
       "model_id": "d22ce3ebb8804a998a1586f3c6c61e0d",
       "version_major": 2,
       "version_minor": 0
      },
      "text/plain": [
       "HBox(children=(Figure(axes=[Axis(label='X', scale=LinearScale(max=8.0, min=0.0)), Axis(label='Y', orientation=…"
      ]
     },
     "metadata": {},
     "output_type": "display_data"
    }
   ],
   "source": [
    "pos = getDefaultPosition()\n",
    "\n",
    "figs = []\n",
    "if True:\n",
    "    b = BoardDisplay(canInteract=True)\n",
    "    b.update(pos)\n",
    "    \n",
    "    figs.append(b.fig)\n",
    "\n",
    "if False:\n",
    "    a = SimpleBoardDisplay()\n",
    "    a.update(pos)\n",
    "    figs.append(a.fig)\n",
    "if True:\n",
    "    m = MoveHeatmapDisplay()\n",
    "    figs.append(m.fig)\n",
    "    \n",
    "rawMoves = np.ones((8,4,4)) #np.random.random((8,4,4))\n",
    "\n",
    "display(widgets.HBox(figs))"
   ]
  },
  {
   "cell_type": "code",
   "execution_count": 3,
   "metadata": {},
   "outputs": [],
   "source": [
    "def displayInputOutput(x_i, y_i):\n",
    "    b.update(x_i)\n",
    "    m.update(y_i)\n",
    "i = 0"
   ]
  },
  {
   "cell_type": "code",
   "execution_count": 6,
   "metadata": {},
   "outputs": [],
   "source": [
    "displayInputOutput(X[i], y[i])\n",
    "i += 1"
   ]
  },
  {
   "cell_type": "code",
   "execution_count": 5,
   "metadata": {},
   "outputs": [
    {
     "name": "stdout",
     "output_type": "stream",
     "text": [
      "Size of input is: 1521.05984 MB.\n"
     ]
    }
   ],
   "source": [
    "games = load_games(\"22k_checkers.txt\")\n",
    "\n",
    "\n",
    "X, y = getData(games)\n",
    "n = X.shape[0]\n",
    "\n",
    "X2 = np.zeros((n,8,8,1))\n",
    "#print(m.shape, m[::2, ::2].shape, m[1::2, 1::2].shape, x0[::2, :].shape, x0[1::2, :].shape)\n",
    "X2[:, ::2, 1::2] = X[:, ::2, :]\n",
    "X2[:, 1::2, ::2] = X[:, 1::2, :]"
   ]
  },
  {
   "cell_type": "code",
   "execution_count": null,
   "metadata": {
    "scrolled": true
   },
   "outputs": [],
   "source": [
    "for i in range(n):\n",
    "\n",
    "    if i % 100000 == 0:\n",
    "        print(\"training ix:\", i)\n",
    "\n",
    "    displayInputOutput(X[i], y[i])\n",
    "    time.sleep(0.1)"
   ]
  },
  {
   "cell_type": "code",
   "execution_count": null,
   "metadata": {},
   "outputs": [],
   "source": [
    "# Test: Show most popular moves.\n",
    "xsum = np.zeros((8,4))\n",
    "ysum = np.zeros((8,4,4))\n",
    "for i, (x_i, y_i) in enumerate(dataGenerator(games)):  # TODO: Show better\n",
    "    xsum += x_i\n",
    "    ysum += y_i\n",
    "\n",
    "ynorm = ysum / np.amax(ysum)\n",
    "\n",
    "displayInputOutput(xsum, ynorm)\n"
   ]
  },
  {
   "cell_type": "code",
   "execution_count": null,
   "metadata": {},
   "outputs": [],
   "source": [
    "# DO ML!!\n",
    "\n",
    "import keras\n",
    "from keras.models import Sequential\n",
    "from keras.layers import *\n",
    "from keras.optimizers import *"
   ]
  },
  {
   "cell_type": "code",
   "execution_count": 9,
   "metadata": {
    "scrolled": false
   },
   "outputs": [
    {
     "ename": "NameError",
     "evalue": "name 'keras' is not defined",
     "output_type": "error",
     "traceback": [
      "\u001b[0;31m---------------------------------------------------------------------------\u001b[0m",
      "\u001b[0;31mNameError\u001b[0m                                 Traceback (most recent call last)",
      "\u001b[0;32m<ipython-input-9-7f62042a8f2e>\u001b[0m in \u001b[0;36m<module>\u001b[0;34m()\u001b[0m\n\u001b[1;32m      9\u001b[0m }\n\u001b[1;32m     10\u001b[0m \u001b[0;34m\u001b[0m\u001b[0m\n\u001b[0;32m---> 11\u001b[0;31m \u001b[0mmodel\u001b[0m \u001b[0;34m=\u001b[0m \u001b[0mkeras\u001b[0m\u001b[0;34m.\u001b[0m\u001b[0mmodels\u001b[0m\u001b[0;34m.\u001b[0m\u001b[0mload_model\u001b[0m\u001b[0;34m(\u001b[0m\u001b[0;34m'trained/stupidmodel-softmax-layers5.h5'\u001b[0m\u001b[0;34m,\u001b[0m \u001b[0mcustom_objects\u001b[0m\u001b[0;34m=\u001b[0m\u001b[0mdependencies\u001b[0m\u001b[0;34m)\u001b[0m\u001b[0;34m\u001b[0m\u001b[0;34m\u001b[0m\u001b[0m\n\u001b[0m",
      "\u001b[0;31mNameError\u001b[0m: name 'keras' is not defined"
     ]
    }
   ],
   "source": [
    "from checkers_models import getModel, metrics\n",
    "\n",
    "scale = 32\n",
    "#model = getModel(scale)\n",
    "# Shit to load metrics *sigh*\n",
    "dependencies = {\n",
    "    'top3Accuracy': metrics[2],\n",
    "    'top5Accuracy': metrics[3]\n",
    "}\n",
    "\n",
    "model = keras.models.load_model('trained/stupidmodel-softmax-layers5.h5', custom_objects=dependencies)\n"
   ]
  },
  {
   "cell_type": "code",
   "execution_count": null,
   "metadata": {},
   "outputs": [],
   "source": [
    "model.summary()"
   ]
  },
  {
   "cell_type": "code",
   "execution_count": null,
   "metadata": {},
   "outputs": [],
   "source": [
    "# Create UI with 3 boards: Game state, target output, network output.\n",
    "figs = []\n",
    "\n",
    "board_d = BoardDisplay(canInteract=False)\n",
    "figs.append(board_d.fig)\n",
    "\n",
    "move_d = MoveHeatmapDisplay()\n",
    "figs.append(move_d.fig)\n",
    "\n",
    "pred_d = MoveHeatmapDisplay()\n",
    "figs.append(pred_d.fig)\n",
    "    \n",
    "display(widgets.HBox(figs))"
   ]
  },
  {
   "cell_type": "code",
   "execution_count": null,
   "metadata": {},
   "outputs": [],
   "source": [
    "ix = random.randrange(0,10000)\n",
    "\n",
    "#for ix in range(30):\n",
    "x_i, y_i = X2[ix], y[ix]\n",
    "\n",
    "x = np.expand_dims(x_i, axis=0)\n",
    "y_pred = model.predict([x])[0]\n",
    "\n",
    "#ymax = np.amax(y_pred)\n",
    "#y_pred = y_pred / ymax\n",
    "\n",
    "\n",
    "board_d.update(X[ix])\n",
    "move_d.update(y_i)\n",
    "pred_d.update(y_pred)"
   ]
  },
  {
   "cell_type": "code",
   "execution_count": null,
   "metadata": {},
   "outputs": [],
   "source": []
  },
  {
   "cell_type": "code",
   "execution_count": null,
   "metadata": {},
   "outputs": [],
   "source": [
    "\n",
    "\n",
    "\n",
    "\n",
    "\n",
    "\n",
    "\n",
    "\n",
    "\n",
    "\n",
    "\n",
    "\n",
    "\n",
    "\n",
    "\n",
    "\n",
    "\n",
    "\n",
    "\n",
    "\n",
    "\n",
    "\n",
    "\n",
    "\n",
    "\n",
    "\n",
    "\n",
    "\n",
    "\n",
    "\n",
    "\n",
    "\n",
    "\n",
    "\n",
    "\n",
    "\n",
    "\n",
    "\n",
    "\n",
    "\n",
    "\n",
    "\n",
    "\n",
    "\n",
    "\n",
    "\n"
   ]
  }
 ],
 "metadata": {
  "kernelspec": {
   "display_name": "Python 3",
   "language": "python",
   "name": "python3"
  },
  "language_info": {
   "codemirror_mode": {
    "name": "ipython",
    "version": 3
   },
   "file_extension": ".py",
   "mimetype": "text/x-python",
   "name": "python",
   "nbconvert_exporter": "python",
   "pygments_lexer": "ipython3",
   "version": "3.6.8"
  }
 },
 "nbformat": 4,
 "nbformat_minor": 2
}
