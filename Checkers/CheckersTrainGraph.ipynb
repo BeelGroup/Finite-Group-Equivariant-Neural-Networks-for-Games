{
 "cells": [
  {
   "cell_type": "code",
   "execution_count": 5,
   "metadata": {},
   "outputs": [
    {
     "name": "stdout",
     "output_type": "stream",
     "text": [
      "The autoreload extension is already loaded. To reload it, use:\n",
      "  %reload_ext autoreload\n"
     ]
    }
   ],
   "source": [
    "%load_ext autoreload\n",
    "%autoreload 2\n",
    "\n",
    "import sys\n",
    "from datetime import datetime\n",
    "import time\n",
    "import random\n",
    "\n",
    "import ipywidgets as widgets\n",
    "\n",
    "import numpy as np\n",
    "import keras\n",
    "from keras.models import Sequential\n",
    "from keras.layers import *\n",
    "from keras.optimizers import *\n",
    "from keras.callbacks import ModelCheckpoint\n",
    "\n",
    "from sklearn.model_selection import train_test_split\n",
    "\n",
    "from checkers_load import makeBatches, load_games, dataGenerator, getData\n",
    "import checkers_models\n",
    "from checkers_display import SimpleSquareBoardDisplay, MoveHeatmapDisplay"
   ]
  },
  {
   "cell_type": "code",
   "execution_count": 2,
   "metadata": {},
   "outputs": [
    {
     "name": "stdout",
     "output_type": "stream",
     "text": [
      "Size of input is: 1521.05984 MB.\n"
     ]
    }
   ],
   "source": [
    "games = load_games()\n",
    "# games = games[:30]\n",
    "\n",
    "X, Y = getData(games)"
   ]
  },
  {
   "cell_type": "code",
   "execution_count": 3,
   "metadata": {},
   "outputs": [
    {
     "data": {
      "application/vnd.jupyter.widget-view+json": {
       "model_id": "9b567282db1a43b4bac5d674b9a9c0a6",
       "version_major": 2,
       "version_minor": 0
      },
      "text/plain": [
       "Figure(axes=[Axis(label='X', scale=LinearScale(allow_padding=False, max=8.0, min=0.0)), Axis(label='Y', orient…"
      ]
     },
     "metadata": {},
     "output_type": "display_data"
    }
   ],
   "source": [
    "b = SimpleSquareBoardDisplay()\n",
    "display(b.fig)"
   ]
  },
  {
   "cell_type": "code",
   "execution_count": 4,
   "metadata": {},
   "outputs": [],
   "source": [
    "# Convert from (n,8,4,1)\n",
    "#         to   (n,8,8,1) with empty squares.\n",
    "# Should make convolution work better.\n",
    "\n",
    "n = X.shape[0]\n",
    "\n",
    "X2 = np.zeros((n,8,8,1))\n",
    "#print(m.shape, m[::2, ::2].shape, m[1::2, 1::2].shape, x0[::2, :].shape, x0[1::2, :].shape)\n",
    "X2[:, ::2, 1::2] = X[:, ::2, :]\n",
    "X2[:, 1::2, ::2] = X[:, 1::2, :]"
   ]
  },
  {
   "cell_type": "code",
   "execution_count": 37,
   "metadata": {},
   "outputs": [
    {
     "ename": "KeyboardInterrupt",
     "evalue": "",
     "output_type": "error",
     "traceback": [
      "\u001b[0;31m---------------------------------------------------------------------------\u001b[0m",
      "\u001b[0;31mKeyboardInterrupt\u001b[0m                         Traceback (most recent call last)",
      "\u001b[0;32m<ipython-input-37-4fb2e0d22106>\u001b[0m in \u001b[0;36m<module>\u001b[0;34m()\u001b[0m\n\u001b[1;32m      3\u001b[0m     \u001b[0ma\u001b[0m \u001b[0;34m=\u001b[0m \u001b[0;34m(\u001b[0m\u001b[0mX2\u001b[0m\u001b[0;34m[\u001b[0m\u001b[0mi\u001b[0m\u001b[0;34m]\u001b[0m \u001b[0;32mif\u001b[0m \u001b[0mi\u001b[0m \u001b[0;34m%\u001b[0m \u001b[0;36m2\u001b[0m \u001b[0;34m==\u001b[0m \u001b[0;36m0\u001b[0m \u001b[0;32melse\u001b[0m \u001b[0;34m-\u001b[0m\u001b[0mX2\u001b[0m\u001b[0;34m[\u001b[0m\u001b[0mi\u001b[0m\u001b[0;34m]\u001b[0m\u001b[0;34m)\u001b[0m\u001b[0;34m\u001b[0m\u001b[0;34m\u001b[0m\u001b[0m\n\u001b[1;32m      4\u001b[0m     \u001b[0mb\u001b[0m\u001b[0;34m.\u001b[0m\u001b[0mupdate\u001b[0m\u001b[0;34m(\u001b[0m\u001b[0ma\u001b[0m\u001b[0;34m)\u001b[0m\u001b[0;34m\u001b[0m\u001b[0;34m\u001b[0m\u001b[0m\n\u001b[0;32m----> 5\u001b[0;31m     \u001b[0mtime\u001b[0m\u001b[0;34m.\u001b[0m\u001b[0msleep\u001b[0m\u001b[0;34m(\u001b[0m\u001b[0;36m1\u001b[0m\u001b[0;34m)\u001b[0m\u001b[0;34m\u001b[0m\u001b[0;34m\u001b[0m\u001b[0m\n\u001b[0m",
      "\u001b[0;31mKeyboardInterrupt\u001b[0m: "
     ]
    }
   ],
   "source": [
    "# Test different ones\n",
    "for i in range(1000):\n",
    "    a = (X2[i] if i % 2 == 0 else -X2[i])\n",
    "    b.update(a)\n",
    "    time.sleep(1)"
   ]
  },
  {
   "cell_type": "code",
   "execution_count": 5,
   "metadata": {},
   "outputs": [],
   "source": [
    "X_train, X_test, Y_train, Y_test = train_test_split(X2, Y, test_size=0.10, random_state=42)"
   ]
  },
  {
   "cell_type": "code",
   "execution_count": 6,
   "metadata": {},
   "outputs": [
    {
     "ename": "NameError",
     "evalue": "name 'adj' is not defined",
     "output_type": "error",
     "traceback": [
      "\u001b[0;31m---------------------------------------------------------------------------\u001b[0m",
      "\u001b[0;31mNameError\u001b[0m                                 Traceback (most recent call last)",
      "\u001b[0;32m<ipython-input-6-0c965e770e25>\u001b[0m in \u001b[0;36m<module>\u001b[0;34m()\u001b[0m\n\u001b[1;32m      1\u001b[0m \u001b[0mfilters\u001b[0m \u001b[0;34m=\u001b[0m \u001b[0;36m128\u001b[0m\u001b[0;34m\u001b[0m\u001b[0;34m\u001b[0m\u001b[0m\n\u001b[1;32m      2\u001b[0m \u001b[0mlayers\u001b[0m \u001b[0;34m=\u001b[0m \u001b[0;36m0\u001b[0m\u001b[0;34m\u001b[0m\u001b[0;34m\u001b[0m\u001b[0m\n\u001b[0;32m----> 3\u001b[0;31m \u001b[0mmodel\u001b[0m \u001b[0;34m=\u001b[0m \u001b[0mcheckers_models\u001b[0m\u001b[0;34m.\u001b[0m\u001b[0mstupidGraphModel\u001b[0m\u001b[0;34m(\u001b[0m\u001b[0mlayers\u001b[0m\u001b[0;34m=\u001b[0m\u001b[0;36m1\u001b[0m\u001b[0;34m)\u001b[0m\u001b[0;34m\u001b[0m\u001b[0;34m\u001b[0m\u001b[0m\n\u001b[0m",
      "\u001b[0;32m~dissert/Masterz-Checkers/checkers_models.py\u001b[0m in \u001b[0;36mstupidGraphModel\u001b[0;34m(layers)\u001b[0m\n\u001b[1;32m     31\u001b[0m     \u001b[0;31m# Should probably be done in the input but w/e.\u001b[0m\u001b[0;34m\u001b[0m\u001b[0;34m\u001b[0m\u001b[0;34m\u001b[0m\u001b[0m\n\u001b[1;32m     32\u001b[0m     \u001b[0;31m# TODO: Create adjacency matrix (or fancy laplacian thing).\u001b[0m\u001b[0;34m\u001b[0m\u001b[0;34m\u001b[0m\u001b[0;34m\u001b[0m\u001b[0m\n\u001b[0;32m---> 33\u001b[0;31m     \u001b[0mconv\u001b[0m \u001b[0;34m=\u001b[0m \u001b[0mGraphConv\u001b[0m\u001b[0;34m(\u001b[0m\u001b[0;36m100\u001b[0m\u001b[0;34m)\u001b[0m\u001b[0;34m(\u001b[0m\u001b[0;34m[\u001b[0m\u001b[0mX_in\u001b[0m\u001b[0;34m,\u001b[0m \u001b[0madj\u001b[0m\u001b[0;34m]\u001b[0m\u001b[0;34m)\u001b[0m\u001b[0;34m\u001b[0m\u001b[0;34m\u001b[0m\u001b[0m\n\u001b[0m\u001b[1;32m     34\u001b[0m \u001b[0;34m\u001b[0m\u001b[0m\n\u001b[1;32m     35\u001b[0m     \u001b[0;32mfor\u001b[0m \u001b[0mi\u001b[0m \u001b[0;32min\u001b[0m \u001b[0mrange\u001b[0m\u001b[0;34m(\u001b[0m\u001b[0mlayers\u001b[0m\u001b[0;34m-\u001b[0m\u001b[0;36m1\u001b[0m\u001b[0;34m)\u001b[0m\u001b[0;34m:\u001b[0m\u001b[0;34m\u001b[0m\u001b[0;34m\u001b[0m\u001b[0m\n",
      "\u001b[0;31mNameError\u001b[0m: name 'adj' is not defined"
     ]
    }
   ],
   "source": [
    "filters = 128\n",
    "layers = 0\n",
    "model = checkers_models.stupidGraphModel(layers=1)"
   ]
  },
  {
   "cell_type": "code",
   "execution_count": null,
   "metadata": {},
   "outputs": [
    {
     "name": "stderr",
     "output_type": "stream",
     "text": [
      "W1012 02:25:37.672106 47284529838080 deprecation.py:323] From /usr/local/lib/python3.6/dist-packages/tensorflow/python/ops/math_grad.py:1250: add_dispatch_support.<locals>.wrapper (from tensorflow.python.ops.array_ops) is deprecated and will be removed in a future version.\n",
      "Instructions for updating:\n",
      "Use tf.where in 2.0, which has the same broadcast rule as np.where\n",
      "W1012 02:25:37.716242 47284529838080 deprecation_wrapper.py:119] From /usr/local/lib/python3.6/dist-packages/keras/backend/tensorflow_backend.py:984: The name tf.assign_add is deprecated. Please use tf.compat.v1.assign_add instead.\n",
      "\n"
     ]
    },
    {
     "name": "stdout",
     "output_type": "stream",
     "text": [
      "!!!!!!!!!!!!! Logging to logs/scalars/goConvNet-wfilters128-wlayers0-1012-022535 !!!!!!!!!!!!!!!!!!\n",
      "Train on 962545 samples, validate on 106950 samples\n"
     ]
    },
    {
     "name": "stderr",
     "output_type": "stream",
     "text": [
      "W1012 02:25:40.026739 47284529838080 deprecation_wrapper.py:119] From /usr/local/lib/python3.6/dist-packages/keras/callbacks.py:804: The name tf.summary.merge_all is deprecated. Please use tf.compat.v1.summary.merge_all instead.\n",
      "\n",
      "W1012 02:25:40.028324 47284529838080 deprecation_wrapper.py:119] From /usr/local/lib/python3.6/dist-packages/keras/callbacks.py:807: The name tf.summary.FileWriter is deprecated. Please use tf.compat.v1.summary.FileWriter instead.\n",
      "\n"
     ]
    },
    {
     "name": "stdout",
     "output_type": "stream",
     "text": [
      "Epoch 1/20\n",
      "962545/962545 [==============================] - 33s 35us/step - loss: 5.4199 - acc: 0.0602 - categorical_accuracy: 0.0602 - top3Accuracy: 0.1577 - top5Accuracy: 0.1577 - val_loss: 3.9703 - val_acc: 0.0957 - val_categorical_accuracy: 0.0957 - val_top3Accuracy: 0.2447 - val_top5Accuracy: 0.2447\n",
      "Epoch 2/20\n",
      "962545/962545 [==============================] - 33s 35us/step - loss: 3.5571 - acc: 0.1367 - categorical_accuracy: 0.1367 - top3Accuracy: 0.3252 - top5Accuracy: 0.3252 - val_loss: 3.2067 - val_acc: 0.1771 - val_categorical_accuracy: 0.1771 - val_top3Accuracy: 0.4073 - val_top5Accuracy: 0.4073\n",
      "Epoch 3/20\n",
      "962545/962545 [==============================] - 33s 35us/step - loss: 2.9451 - acc: 0.2101 - categorical_accuracy: 0.2101 - top3Accuracy: 0.4644 - top5Accuracy: 0.4644 - val_loss: 2.7530 - val_acc: 0.2395 - val_categorical_accuracy: 0.2395 - val_top3Accuracy: 0.5133 - val_top5Accuracy: 0.5133\n",
      "Epoch 4/20\n",
      "962545/962545 [==============================] - 33s 35us/step - loss: 2.6053 - acc: 0.2553 - categorical_accuracy: 0.2553 - top3Accuracy: 0.5349 - top5Accuracy: 0.5349 - val_loss: 2.5198 - val_acc: 0.2684 - val_categorical_accuracy: 0.2684 - val_top3Accuracy: 0.5580 - val_top5Accuracy: 0.5580\n",
      "Epoch 5/20\n",
      "962545/962545 [==============================] - 33s 34us/step - loss: 2.4308 - acc: 0.2809 - categorical_accuracy: 0.2809 - top3Accuracy: 0.5726 - top5Accuracy: 0.5726 - val_loss: 2.3751 - val_acc: 0.2922 - val_categorical_accuracy: 0.2922 - val_top3Accuracy: 0.5861 - val_top5Accuracy: 0.5861\n",
      "Epoch 6/20\n",
      "962545/962545 [==============================] - 33s 34us/step - loss: 2.3171 - acc: 0.2989 - categorical_accuracy: 0.2989 - top3Accuracy: 0.5960 - top5Accuracy: 0.5960 - val_loss: 2.2897 - val_acc: 0.3045 - val_categorical_accuracy: 0.3045 - val_top3Accuracy: 0.6049 - val_top5Accuracy: 0.6049\n",
      "Epoch 7/20\n",
      "962545/962545 [==============================] - 33s 34us/step - loss: 2.2521 - acc: 0.3121 - categorical_accuracy: 0.3121 - top3Accuracy: 0.6113 - top5Accuracy: 0.6113 - val_loss: 2.2389 - val_acc: 0.3169 - val_categorical_accuracy: 0.3169 - val_top3Accuracy: 0.6169 - val_top5Accuracy: 0.6169\n",
      "Epoch 8/20\n",
      "962545/962545 [==============================] - 33s 34us/step - loss: 2.2122 - acc: 0.3221 - categorical_accuracy: 0.3221 - top3Accuracy: 0.6236 - top5Accuracy: 0.6236 - val_loss: 2.2066 - val_acc: 0.3253 - val_categorical_accuracy: 0.3253 - val_top3Accuracy: 0.6268 - val_top5Accuracy: 0.6268\n",
      "Epoch 9/20\n",
      "962545/962545 [==============================] - 33s 34us/step - loss: 2.1831 - acc: 0.3316 - categorical_accuracy: 0.3316 - top3Accuracy: 0.6347 - top5Accuracy: 0.6347 - val_loss: 2.1864 - val_acc: 0.3355 - val_categorical_accuracy: 0.3355 - val_top3Accuracy: 0.6368 - val_top5Accuracy: 0.6368\n",
      "Epoch 10/20\n",
      "962545/962545 [==============================] - 33s 34us/step - loss: 2.1541 - acc: 0.3401 - categorical_accuracy: 0.3401 - top3Accuracy: 0.6437 - top5Accuracy: 0.6437 - val_loss: 2.1537 - val_acc: 0.3397 - val_categorical_accuracy: 0.3397 - val_top3Accuracy: 0.6427 - val_top5Accuracy: 0.6427\n",
      "Epoch 11/20\n",
      "962545/962545 [==============================] - 33s 34us/step - loss: 2.1287 - acc: 0.3454 - categorical_accuracy: 0.3454 - top3Accuracy: 0.6513 - top5Accuracy: 0.6513 - val_loss: 2.1333 - val_acc: 0.3467 - val_categorical_accuracy: 0.3467 - val_top3Accuracy: 0.6519 - val_top5Accuracy: 0.6519\n",
      "Epoch 12/20\n",
      "962545/962545 [==============================] - 33s 34us/step - loss: nan - acc: 0.1716 - categorical_accuracy: 0.1716 - top3Accuracy: 0.3220 - top5Accuracy: 0.3220 - val_loss: nan - val_acc: 0.0000e+00 - val_categorical_accuracy: 0.0000e+00 - val_top3Accuracy: 0.0000e+00 - val_top5Accuracy: 0.0000e+00\n",
      "Epoch 13/20\n",
      "962545/962545 [==============================] - 33s 34us/step - loss: nan - acc: 0.0000e+00 - categorical_accuracy: 0.0000e+00 - top3Accuracy: 0.0000e+00 - top5Accuracy: 0.0000e+00 - val_loss: nan - val_acc: 0.0000e+00 - val_categorical_accuracy: 0.0000e+00 - val_top3Accuracy: 0.0000e+00 - val_top5Accuracy: 0.0000e+00\n",
      "Epoch 14/20\n",
      "962545/962545 [==============================] - 33s 34us/step - loss: nan - acc: 0.0000e+00 - categorical_accuracy: 0.0000e+00 - top3Accuracy: 0.0000e+00 - top5Accuracy: 0.0000e+00 - val_loss: nan - val_acc: 0.0000e+00 - val_categorical_accuracy: 0.0000e+00 - val_top3Accuracy: 0.0000e+00 - val_top5Accuracy: 0.0000e+00\n",
      "Epoch 15/20\n",
      "962545/962545 [==============================] - 33s 34us/step - loss: nan - acc: 0.0000e+00 - categorical_accuracy: 0.0000e+00 - top3Accuracy: 0.0000e+00 - top5Accuracy: 0.0000e+00 - val_loss: nan - val_acc: 0.0000e+00 - val_categorical_accuracy: 0.0000e+00 - val_top3Accuracy: 0.0000e+00 - val_top5Accuracy: 0.0000e+00\n",
      "Epoch 16/20\n",
      "962545/962545 [==============================] - 33s 34us/step - loss: nan - acc: 0.0000e+00 - categorical_accuracy: 0.0000e+00 - top3Accuracy: 0.0000e+00 - top5Accuracy: 0.0000e+00 - val_loss: nan - val_acc: 0.0000e+00 - val_categorical_accuracy: 0.0000e+00 - val_top3Accuracy: 0.0000e+00 - val_top5Accuracy: 0.0000e+00\n",
      "Epoch 17/20\n",
      "962545/962545 [==============================] - 33s 34us/step - loss: nan - acc: 0.0000e+00 - categorical_accuracy: 0.0000e+00 - top3Accuracy: 0.0000e+00 - top5Accuracy: 0.0000e+00 - val_loss: nan - val_acc: 0.0000e+00 - val_categorical_accuracy: 0.0000e+00 - val_top3Accuracy: 0.0000e+00 - val_top5Accuracy: 0.0000e+00\n",
      "Epoch 18/20\n",
      "962545/962545 [==============================] - 33s 34us/step - loss: nan - acc: 0.0000e+00 - categorical_accuracy: 0.0000e+00 - top3Accuracy: 0.0000e+00 - top5Accuracy: 0.0000e+00 - val_loss: nan - val_acc: 0.0000e+00 - val_categorical_accuracy: 0.0000e+00 - val_top3Accuracy: 0.0000e+00 - val_top5Accuracy: 0.0000e+00\n",
      "Epoch 19/20\n",
      "962545/962545 [==============================] - 33s 34us/step - loss: nan - acc: 0.0000e+00 - categorical_accuracy: 0.0000e+00 - top3Accuracy: 0.0000e+00 - top5Accuracy: 0.0000e+00 - val_loss: nan - val_acc: 0.0000e+00 - val_categorical_accuracy: 0.0000e+00 - val_top3Accuracy: 0.0000e+00 - val_top5Accuracy: 0.0000e+00\n",
      "Epoch 20/20\n",
      " 80640/962545 [=>............................] - ETA: 28s - loss: nan - acc: 0.0000e+00 - categorical_accuracy: 0.0000e+00 - top3Accuracy: 0.0000e+00 - top5Accuracy: 0.0000e+00"
     ]
    }
   ],
   "source": [
    "m_name = \"goConvNet-wfilters\" + str(filters) + \"-wlayers\" + str(layers)\n",
    "\n",
    "\n",
    "log_dir = 'logs/scalars/' + m_name + \"-\" + datetime.now().strftime(\"%m%d-%H%M%S\")\n",
    "tf_callback = keras.callbacks.TensorBoard(log_dir=log_dir)\n",
    "print(\"!!!!!!!!!!!!! Logging to\", log_dir, \"!!!!!!!!!!!!!!!!!!\")\n",
    "\n",
    "batch_s = 256\n",
    "epochs = 20\n",
    "\n",
    "model.fit(X_train, Y_train,\n",
    "          batch_size=batch_s,\n",
    "          epochs=epochs,\n",
    "          validation_split=0.1,\n",
    "          callbacks=[tf_callback])\n",
    "\n",
    "# Save\n",
    "f_name = m_name + '.h5'\n",
    "print(\"Saving\", f_name)\n",
    "model.save(f_name)"
   ]
  },
  {
   "cell_type": "code",
   "execution_count": 97,
   "metadata": {},
   "outputs": [
    {
     "ename": "ValueError",
     "evalue": "Unknown metric function:top3Accuracy",
     "output_type": "error",
     "traceback": [
      "\u001b[0;31m---------------------------------------------------------------------------\u001b[0m",
      "\u001b[0;31mValueError\u001b[0m                                Traceback (most recent call last)",
      "\u001b[0;32m<ipython-input-97-08411aba7cb2>\u001b[0m in \u001b[0;36m<module>\u001b[0;34m()\u001b[0m\n\u001b[0;32m----> 1\u001b[0;31m \u001b[0mmodel\u001b[0m \u001b[0;34m=\u001b[0m \u001b[0mkeras\u001b[0m\u001b[0;34m.\u001b[0m\u001b[0mmodels\u001b[0m\u001b[0;34m.\u001b[0m\u001b[0mload_model\u001b[0m\u001b[0;34m(\u001b[0m\u001b[0mf_name\u001b[0m\u001b[0;34m)\u001b[0m\u001b[0;34m\u001b[0m\u001b[0;34m\u001b[0m\u001b[0m\n\u001b[0m\u001b[1;32m      2\u001b[0m \u001b[0;34m\u001b[0m\u001b[0m\n\u001b[1;32m      3\u001b[0m \u001b[0mfigs\u001b[0m \u001b[0;34m=\u001b[0m \u001b[0;34m[\u001b[0m\u001b[0;34m]\u001b[0m\u001b[0;34m\u001b[0m\u001b[0;34m\u001b[0m\u001b[0m\n\u001b[1;32m      4\u001b[0m \u001b[0;34m\u001b[0m\u001b[0m\n\u001b[1;32m      5\u001b[0m \u001b[0mboard_d\u001b[0m \u001b[0;34m=\u001b[0m \u001b[0mSimpleSquareBoardDisplay\u001b[0m\u001b[0;34m(\u001b[0m\u001b[0;34m)\u001b[0m\u001b[0;34m\u001b[0m\u001b[0;34m\u001b[0m\u001b[0m\n",
      "\u001b[0;32m~usr/local/lib/python3.6/dist-packages/keras/engine/saving.py\u001b[0m in \u001b[0;36mload_model\u001b[0;34m(filepath, custom_objects, compile)\u001b[0m\n\u001b[1;32m    287\u001b[0m                           \u001b[0mmetrics\u001b[0m\u001b[0;34m=\u001b[0m\u001b[0mmetrics\u001b[0m\u001b[0;34m,\u001b[0m\u001b[0;34m\u001b[0m\u001b[0;34m\u001b[0m\u001b[0m\n\u001b[1;32m    288\u001b[0m                           \u001b[0mloss_weights\u001b[0m\u001b[0;34m=\u001b[0m\u001b[0mloss_weights\u001b[0m\u001b[0;34m,\u001b[0m\u001b[0;34m\u001b[0m\u001b[0;34m\u001b[0m\u001b[0m\n\u001b[0;32m--> 289\u001b[0;31m                           sample_weight_mode=sample_weight_mode)\n\u001b[0m\u001b[1;32m    290\u001b[0m \u001b[0;34m\u001b[0m\u001b[0m\n\u001b[1;32m    291\u001b[0m             \u001b[0;31m# Set optimizer weights.\u001b[0m\u001b[0;34m\u001b[0m\u001b[0;34m\u001b[0m\u001b[0;34m\u001b[0m\u001b[0m\n",
      "\u001b[0;32m~usr/local/lib/python3.6/dist-packages/keras/engine/training.py\u001b[0m in \u001b[0;36mcompile\u001b[0;34m(self, optimizer, loss, metrics, loss_weights, sample_weight_mode, weighted_metrics, target_tensors, **kwargs)\u001b[0m\n\u001b[1;32m    438\u001b[0m                 \u001b[0moutput_metrics\u001b[0m \u001b[0;34m=\u001b[0m \u001b[0mnested_metrics\u001b[0m\u001b[0;34m[\u001b[0m\u001b[0mi\u001b[0m\u001b[0;34m]\u001b[0m\u001b[0;34m\u001b[0m\u001b[0;34m\u001b[0m\u001b[0m\n\u001b[1;32m    439\u001b[0m                 \u001b[0moutput_weighted_metrics\u001b[0m \u001b[0;34m=\u001b[0m \u001b[0mnested_weighted_metrics\u001b[0m\u001b[0;34m[\u001b[0m\u001b[0mi\u001b[0m\u001b[0;34m]\u001b[0m\u001b[0;34m\u001b[0m\u001b[0;34m\u001b[0m\u001b[0m\n\u001b[0;32m--> 440\u001b[0;31m                 \u001b[0mhandle_metrics\u001b[0m\u001b[0;34m(\u001b[0m\u001b[0moutput_metrics\u001b[0m\u001b[0;34m)\u001b[0m\u001b[0;34m\u001b[0m\u001b[0;34m\u001b[0m\u001b[0m\n\u001b[0m\u001b[1;32m    441\u001b[0m                 \u001b[0mhandle_metrics\u001b[0m\u001b[0;34m(\u001b[0m\u001b[0moutput_weighted_metrics\u001b[0m\u001b[0;34m,\u001b[0m \u001b[0mweights\u001b[0m\u001b[0;34m=\u001b[0m\u001b[0mweights\u001b[0m\u001b[0;34m)\u001b[0m\u001b[0;34m\u001b[0m\u001b[0;34m\u001b[0m\u001b[0m\n\u001b[1;32m    442\u001b[0m \u001b[0;34m\u001b[0m\u001b[0m\n",
      "\u001b[0;32m~usr/local/lib/python3.6/dist-packages/keras/engine/training.py\u001b[0m in \u001b[0;36mhandle_metrics\u001b[0;34m(metrics, weights)\u001b[0m\n\u001b[1;32m    395\u001b[0m                     \u001b[0mmetric_name\u001b[0m \u001b[0;34m=\u001b[0m \u001b[0mmetric_name_prefix\u001b[0m \u001b[0;34m+\u001b[0m \u001b[0msuffix\u001b[0m\u001b[0;34m\u001b[0m\u001b[0;34m\u001b[0m\u001b[0m\n\u001b[1;32m    396\u001b[0m                 \u001b[0;32melse\u001b[0m\u001b[0;34m:\u001b[0m\u001b[0;34m\u001b[0m\u001b[0;34m\u001b[0m\u001b[0m\n\u001b[0;32m--> 397\u001b[0;31m                     \u001b[0mmetric_fn\u001b[0m \u001b[0;34m=\u001b[0m \u001b[0mmetrics_module\u001b[0m\u001b[0;34m.\u001b[0m\u001b[0mget\u001b[0m\u001b[0;34m(\u001b[0m\u001b[0mmetric\u001b[0m\u001b[0;34m)\u001b[0m\u001b[0;34m\u001b[0m\u001b[0;34m\u001b[0m\u001b[0m\n\u001b[0m\u001b[1;32m    398\u001b[0m                     \u001b[0mweighted_metric_fn\u001b[0m \u001b[0;34m=\u001b[0m \u001b[0mweighted_masked_objective\u001b[0m\u001b[0;34m(\u001b[0m\u001b[0mmetric_fn\u001b[0m\u001b[0;34m)\u001b[0m\u001b[0;34m\u001b[0m\u001b[0;34m\u001b[0m\u001b[0m\n\u001b[1;32m    399\u001b[0m                     \u001b[0;31m# Get metric name as string\u001b[0m\u001b[0;34m\u001b[0m\u001b[0;34m\u001b[0m\u001b[0;34m\u001b[0m\u001b[0m\n",
      "\u001b[0;32m~usr/local/lib/python3.6/dist-packages/keras/metrics.py\u001b[0m in \u001b[0;36mget\u001b[0;34m(identifier)\u001b[0m\n\u001b[1;32m     73\u001b[0m         \u001b[0;32mreturn\u001b[0m \u001b[0mdeserialize\u001b[0m\u001b[0;34m(\u001b[0m\u001b[0mconfig\u001b[0m\u001b[0;34m)\u001b[0m\u001b[0;34m\u001b[0m\u001b[0;34m\u001b[0m\u001b[0m\n\u001b[1;32m     74\u001b[0m     \u001b[0;32melif\u001b[0m \u001b[0misinstance\u001b[0m\u001b[0;34m(\u001b[0m\u001b[0midentifier\u001b[0m\u001b[0;34m,\u001b[0m \u001b[0msix\u001b[0m\u001b[0;34m.\u001b[0m\u001b[0mstring_types\u001b[0m\u001b[0;34m)\u001b[0m\u001b[0;34m:\u001b[0m\u001b[0;34m\u001b[0m\u001b[0;34m\u001b[0m\u001b[0m\n\u001b[0;32m---> 75\u001b[0;31m         \u001b[0;32mreturn\u001b[0m \u001b[0mdeserialize\u001b[0m\u001b[0;34m(\u001b[0m\u001b[0mstr\u001b[0m\u001b[0;34m(\u001b[0m\u001b[0midentifier\u001b[0m\u001b[0;34m)\u001b[0m\u001b[0;34m)\u001b[0m\u001b[0;34m\u001b[0m\u001b[0;34m\u001b[0m\u001b[0m\n\u001b[0m\u001b[1;32m     76\u001b[0m     \u001b[0;32melif\u001b[0m \u001b[0mcallable\u001b[0m\u001b[0;34m(\u001b[0m\u001b[0midentifier\u001b[0m\u001b[0;34m)\u001b[0m\u001b[0;34m:\u001b[0m\u001b[0;34m\u001b[0m\u001b[0;34m\u001b[0m\u001b[0m\n\u001b[1;32m     77\u001b[0m         \u001b[0;32mreturn\u001b[0m \u001b[0midentifier\u001b[0m\u001b[0;34m\u001b[0m\u001b[0;34m\u001b[0m\u001b[0m\n",
      "\u001b[0;32m~usr/local/lib/python3.6/dist-packages/keras/metrics.py\u001b[0m in \u001b[0;36mdeserialize\u001b[0;34m(config, custom_objects)\u001b[0m\n\u001b[1;32m     65\u001b[0m                                     \u001b[0mmodule_objects\u001b[0m\u001b[0;34m=\u001b[0m\u001b[0mglobals\u001b[0m\u001b[0;34m(\u001b[0m\u001b[0;34m)\u001b[0m\u001b[0;34m,\u001b[0m\u001b[0;34m\u001b[0m\u001b[0;34m\u001b[0m\u001b[0m\n\u001b[1;32m     66\u001b[0m                                     \u001b[0mcustom_objects\u001b[0m\u001b[0;34m=\u001b[0m\u001b[0mcustom_objects\u001b[0m\u001b[0;34m,\u001b[0m\u001b[0;34m\u001b[0m\u001b[0;34m\u001b[0m\u001b[0m\n\u001b[0;32m---> 67\u001b[0;31m                                     printable_module_name='metric function')\n\u001b[0m\u001b[1;32m     68\u001b[0m \u001b[0;34m\u001b[0m\u001b[0m\n\u001b[1;32m     69\u001b[0m \u001b[0;34m\u001b[0m\u001b[0m\n",
      "\u001b[0;32m~usr/local/lib/python3.6/dist-packages/keras/utils/generic_utils.py\u001b[0m in \u001b[0;36mdeserialize_keras_object\u001b[0;34m(identifier, module_objects, custom_objects, printable_module_name)\u001b[0m\n\u001b[1;32m    163\u001b[0m             \u001b[0;32mif\u001b[0m \u001b[0mfn\u001b[0m \u001b[0;32mis\u001b[0m \u001b[0;32mNone\u001b[0m\u001b[0;34m:\u001b[0m\u001b[0;34m\u001b[0m\u001b[0;34m\u001b[0m\u001b[0m\n\u001b[1;32m    164\u001b[0m                 raise ValueError('Unknown ' + printable_module_name +\n\u001b[0;32m--> 165\u001b[0;31m                                  ':' + function_name)\n\u001b[0m\u001b[1;32m    166\u001b[0m         \u001b[0;32mreturn\u001b[0m \u001b[0mfn\u001b[0m\u001b[0;34m\u001b[0m\u001b[0;34m\u001b[0m\u001b[0m\n\u001b[1;32m    167\u001b[0m     \u001b[0;32melse\u001b[0m\u001b[0;34m:\u001b[0m\u001b[0;34m\u001b[0m\u001b[0;34m\u001b[0m\u001b[0m\n",
      "\u001b[0;31mValueError\u001b[0m: Unknown metric function:top3Accuracy"
     ]
    }
   ],
   "source": [
    "#model = keras.models.load_model(f_name)\n",
    "\n",
    "figs = []\n",
    "\n",
    "board_d = SimpleSquareBoardDisplay()\n",
    "figs.append(board_d.fig)\n",
    "\n",
    "move_d = MoveHeatmapDisplay()\n",
    "figs.append(move_d.fig)\n",
    "\n",
    "pred_d = MoveHeatmapDisplay()\n",
    "figs.append(pred_d.fig)\n",
    "\n",
    "display(widgets.HBox(figs))"
   ]
  },
  {
   "cell_type": "code",
   "execution_count": 96,
   "metadata": {},
   "outputs": [],
   "source": [
    "ix = random.randrange(0,10000)\n",
    "\n",
    "#for ix in range(30):\n",
    "x_i, y_i = X_test[ix], Y_test[ix]\n",
    "\n",
    "x = np.expand_dims(x_i, axis=0)\n",
    "y_pred = model.predict([x])[0]\n",
    "\n",
    "#ymax = np.amax(y_pred)\n",
    "#y_pred = y_pred / ymax\n",
    "\n",
    "\n",
    "board_d.update(x_i)\n",
    "move_d.update(y_i)\n",
    "pred_d.update(y_pred)"
   ]
  },
  {
   "cell_type": "code",
   "execution_count": null,
   "metadata": {},
   "outputs": [],
   "source": [
    "\n",
    "\n",
    "\n",
    "\n",
    "\n",
    "\n",
    "\n",
    "\n",
    "\n",
    "\n",
    "\n",
    "\n",
    "\n",
    "\n",
    "\n",
    "\n",
    "\n",
    "\n",
    "\n",
    "\n",
    "\n",
    "\n",
    "\n",
    "\n",
    "\n",
    "\n",
    "\n",
    "\n",
    "\n",
    "\n",
    "\n",
    "\n",
    "\n",
    "\n",
    "\n",
    "\n",
    "\n",
    "\n",
    "\n",
    "\n",
    "\n"
   ]
  }
 ],
 "metadata": {
  "kernelspec": {
   "display_name": "Python 3",
   "language": "python",
   "name": "python3"
  },
  "language_info": {
   "codemirror_mode": {
    "name": "ipython",
    "version": 3
   },
   "file_extension": ".py",
   "mimetype": "text/x-python",
   "name": "python",
   "nbconvert_exporter": "python",
   "pygments_lexer": "ipython3",
   "version": "3.6.8"
  }
 },
 "nbformat": 4,
 "nbformat_minor": 2
}
